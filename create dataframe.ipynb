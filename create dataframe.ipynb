{
 "cells": [
  {
   "cell_type": "code",
   "execution_count": 1,
   "id": "6cb2cab8-aa1f-47b5-852d-2f5636fdc8c5",
   "metadata": {},
   "outputs": [],
   "source": [
    "# Импорт модулей pandas, numpy\n",
    "import pandas as pd\n",
    "import numpy as np"
   ]
  },
  {
   "cell_type": "code",
   "execution_count": null,
   "id": "4b075ece-ed7a-495d-ad46-be89b6c920ac",
   "metadata": {},
   "outputs": [],
   "source": [
    "# Создание списков для столбцов Dataframe\n",
    "name = ['Иванов', 'Петров', 'Сидоров', 'Бякин', 'Чайка']\n",
    "prof = ['Электрик', 'Бурильщик', 'Оператор', 'Водитель', 'Диспетчер']\n",
    "age = [1990, 1965, 1998, 2000, 1968]"
   ]
  },
  {
   "cell_type": "code",
   "execution_count": 7,
   "id": "f1869566-a62b-4182-8019-264b6513530f",
   "metadata": {},
   "outputs": [
    {
     "data": {
      "text/plain": [
       "{'Фамилия': ['Иванов', 'Петров', 'Сидоров', 'Бякин', 'Чайка'],\n",
       " 'Специальность': ['Электрик',\n",
       "  'Бурильщик',\n",
       "  'Оператор',\n",
       "  'Водитель',\n",
       "  'Диспетчер'],\n",
       " 'Год_рождения': [1990, 1965, 1998, 2000, 1968]}"
      ]
     },
     "execution_count": 7,
     "metadata": {},
     "output_type": "execute_result"
    }
   ],
   "source": [
    "# Создание списков для столбцов Dataframe\n",
    "name = ['Иванов', 'Петров', 'Сидоров', 'Бякин', 'Чайка']\n",
    "prof = ['Электрик', 'Бурильщик', 'Оператор', 'Водитель', 'Диспетчер']\n",
    "age = [1990, 1965, 1998, 2000, 1968]\n",
    "# Словарь\n",
    "prof_year = {'Фамилия': name,\n",
    "            'Специальность': prof,\n",
    "            'Год_рождения': age}\n",
    "prof_year"
   ]
  },
  {
   "cell_type": "code",
   "execution_count": 8,
   "id": "d77d4486-bc6f-4821-89e9-cd43b5fd17f1",
   "metadata": {},
   "outputs": [
    {
     "data": {
      "text/html": [
       "<div>\n",
       "<style scoped>\n",
       "    .dataframe tbody tr th:only-of-type {\n",
       "        vertical-align: middle;\n",
       "    }\n",
       "\n",
       "    .dataframe tbody tr th {\n",
       "        vertical-align: top;\n",
       "    }\n",
       "\n",
       "    .dataframe thead th {\n",
       "        text-align: right;\n",
       "    }\n",
       "</style>\n",
       "<table border=\"1\" class=\"dataframe\">\n",
       "  <thead>\n",
       "    <tr style=\"text-align: right;\">\n",
       "      <th></th>\n",
       "      <th>Фамилия</th>\n",
       "      <th>Специальность</th>\n",
       "      <th>Год_рождения</th>\n",
       "    </tr>\n",
       "  </thead>\n",
       "  <tbody>\n",
       "    <tr>\n",
       "      <th>0</th>\n",
       "      <td>Иванов</td>\n",
       "      <td>Электрик</td>\n",
       "      <td>1990</td>\n",
       "    </tr>\n",
       "    <tr>\n",
       "      <th>1</th>\n",
       "      <td>Петров</td>\n",
       "      <td>Бурильщик</td>\n",
       "      <td>1965</td>\n",
       "    </tr>\n",
       "    <tr>\n",
       "      <th>2</th>\n",
       "      <td>Сидоров</td>\n",
       "      <td>Оператор</td>\n",
       "      <td>1998</td>\n",
       "    </tr>\n",
       "    <tr>\n",
       "      <th>3</th>\n",
       "      <td>Бякин</td>\n",
       "      <td>Водитель</td>\n",
       "      <td>2000</td>\n",
       "    </tr>\n",
       "    <tr>\n",
       "      <th>4</th>\n",
       "      <td>Чайка</td>\n",
       "      <td>Диспетчер</td>\n",
       "      <td>1968</td>\n",
       "    </tr>\n",
       "  </tbody>\n",
       "</table>\n",
       "</div>"
      ],
      "text/plain": [
       "   Фамилия Специальность  Год_рождения\n",
       "0   Иванов      Электрик          1990\n",
       "1   Петров     Бурильщик          1965\n",
       "2  Сидоров      Оператор          1998\n",
       "3    Бякин      Водитель          2000\n",
       "4    Чайка     Диспетчер          1968"
      ]
     },
     "execution_count": 8,
     "metadata": {},
     "output_type": "execute_result"
    }
   ],
   "source": [
    "# Создание списков для столбцов Dataframe\n",
    "name = ['Иванов', 'Петров', 'Сидоров', 'Бякин', 'Чайка']\n",
    "prof = ['Электрик', 'Бурильщик', 'Оператор', 'Водитель', 'Диспетчер']\n",
    "age = [1990, 1965, 1998, 2000, 1968]\n",
    "# Словарь\n",
    "prof_year = {'Фамилия': name,\n",
    "            'Специальность': prof,\n",
    "            'Год_рождения': age}\n",
    "# создание Dataframe\n",
    "List_1 = pd.DataFrame(prof_year)\n",
    "List_1"
   ]
  },
  {
   "cell_type": "code",
   "execution_count": 9,
   "id": "ad192d41-252c-4c77-a1ff-66706067dfa3",
   "metadata": {},
   "outputs": [
    {
     "data": {
      "text/plain": [
       "RangeIndex(start=0, stop=5, step=1)"
      ]
     },
     "execution_count": 9,
     "metadata": {},
     "output_type": "execute_result"
    }
   ],
   "source": [
    "# Нумерация\n",
    "List_1.index"
   ]
  },
  {
   "cell_type": "code",
   "execution_count": 19,
   "id": "337aec67-e736-4c41-b23e-234a60be4d2f",
   "metadata": {},
   "outputs": [
    {
     "data": {
      "text/html": [
       "<div>\n",
       "<style scoped>\n",
       "    .dataframe tbody tr th:only-of-type {\n",
       "        vertical-align: middle;\n",
       "    }\n",
       "\n",
       "    .dataframe tbody tr th {\n",
       "        vertical-align: top;\n",
       "    }\n",
       "\n",
       "    .dataframe thead th {\n",
       "        text-align: right;\n",
       "    }\n",
       "</style>\n",
       "<table border=\"1\" class=\"dataframe\">\n",
       "  <thead>\n",
       "    <tr style=\"text-align: right;\">\n",
       "      <th></th>\n",
       "      <th>Фамилия</th>\n",
       "      <th>Специальность</th>\n",
       "      <th>Год_рождения</th>\n",
       "    </tr>\n",
       "  </thead>\n",
       "  <tbody>\n",
       "    <tr>\n",
       "      <th>1</th>\n",
       "      <td>Иванов</td>\n",
       "      <td>Электрик</td>\n",
       "      <td>1990</td>\n",
       "    </tr>\n",
       "    <tr>\n",
       "      <th>2</th>\n",
       "      <td>Петров</td>\n",
       "      <td>Бурильщик</td>\n",
       "      <td>1965</td>\n",
       "    </tr>\n",
       "    <tr>\n",
       "      <th>3</th>\n",
       "      <td>Сидоров</td>\n",
       "      <td>Оператор</td>\n",
       "      <td>1998</td>\n",
       "    </tr>\n",
       "    <tr>\n",
       "      <th>4</th>\n",
       "      <td>Бякин</td>\n",
       "      <td>Водитель</td>\n",
       "      <td>2000</td>\n",
       "    </tr>\n",
       "    <tr>\n",
       "      <th>5</th>\n",
       "      <td>Чайка</td>\n",
       "      <td>Диспетчер</td>\n",
       "      <td>1968</td>\n",
       "    </tr>\n",
       "  </tbody>\n",
       "</table>\n",
       "</div>"
      ],
      "text/plain": [
       "   Фамилия Специальность  Год_рождения\n",
       "1   Иванов      Электрик          1990\n",
       "2   Петров     Бурильщик          1965\n",
       "3  Сидоров      Оператор          1998\n",
       "4    Бякин      Водитель          2000\n",
       "5    Чайка     Диспетчер          1968"
      ]
     },
     "execution_count": 19,
     "metadata": {},
     "output_type": "execute_result"
    }
   ],
   "source": [
    "# Создание списков для столбцов Dataframe\n",
    "name = ['Иванов', 'Петров', 'Сидоров', 'Бякин', 'Чайка']\n",
    "prof = ['Электрик', 'Бурильщик', 'Оператор', 'Водитель', 'Диспетчер']\n",
    "age = [1990, 1965, 1998, 2000, 1968]\n",
    "# Словарь\n",
    "prof_year = {'Фамилия': name,\n",
    "            'Специальность': prof,\n",
    "            'Год_рождения': age}\n",
    "# создание Dataframe\n",
    "List_1 = pd.DataFrame(prof_year)\n",
    "# Своя нумерация\n",
    "List_1.index = ['1', '2', '3', '4', '5']\n",
    "List_1"
   ]
  },
  {
   "cell_type": "code",
   "execution_count": 20,
   "id": "e13451de-f043-4223-a708-8758cd33bbd0",
   "metadata": {},
   "outputs": [
    {
     "data": {
      "text/plain": [
       "Index(['1', '2', '3', '4', '5'], dtype='object')"
      ]
     },
     "execution_count": 20,
     "metadata": {},
     "output_type": "execute_result"
    }
   ],
   "source": [
    "# Изменение типа индекса\n",
    "List_1.index"
   ]
  },
  {
   "cell_type": "code",
   "execution_count": 22,
   "id": "c003b678-59d5-4746-afb1-603025be1881",
   "metadata": {},
   "outputs": [],
   "source": [
    "# Запись в CSV (классический: данные разделены запятыми)\n",
    "List_1.to_csv('Данные.csv',\n",
    "            index=False)"
   ]
  }
 ],
 "metadata": {
  "kernelspec": {
   "display_name": "Python 3 (ipykernel)",
   "language": "python",
   "name": "python3"
  },
  "language_info": {
   "codemirror_mode": {
    "name": "ipython",
    "version": 3
   },
   "file_extension": ".py",
   "mimetype": "text/x-python",
   "name": "python",
   "nbconvert_exporter": "python",
   "pygments_lexer": "ipython3",
   "version": "3.8.9"
  }
 },
 "nbformat": 4,
 "nbformat_minor": 5
}
